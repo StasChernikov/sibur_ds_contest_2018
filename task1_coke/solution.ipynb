{
 "cells": [
  {
   "cell_type": "code",
   "execution_count": 1,
   "metadata": {},
   "outputs": [
    {
     "name": "stderr",
     "output_type": "stream",
     "text": [
      "C:\\Users\\sesa490527\\AppData\\Local\\Continuum\\anaconda2\\envs\\py36\\lib\\site-packages\\sklearn\\ensemble\\weight_boosting.py:29: DeprecationWarning: numpy.core.umath_tests is an internal NumPy module and should not be imported. It will be removed in a future NumPy release.\n",
      "  from numpy.core.umath_tests import inner1d\n"
     ]
    }
   ],
   "source": [
    "from sklearn.linear_model import Ridge\n",
    "from sklearn.preprocessing import Imputer, StandardScaler\n",
    "from sklearn.metrics import mean_squared_error\n",
    "from sklearn.model_selection import GridSearchCV\n",
    "from sklearn.model_selection import TimeSeriesSplit\n",
    "from sklearn.ensemble import GradientBoostingRegressor, AdaBoostRegressor\n",
    "from xgboost import XGBRegressor\n",
    "\n",
    "from itertools import combinations\n",
    "import numpy as np\n",
    "import pandas as pd\n",
    "import matplotlib.pylab as plt\n",
    "plt.style.use('seaborn-whitegrid')"
   ]
  },
  {
   "cell_type": "code",
   "execution_count": 2,
   "metadata": {},
   "outputs": [],
   "source": [
    "def read_data(filename, encoding='utf-8', sep=',',  parse_dates= ['timestamp'], index_col = ['timestamp']):\n",
    "    data =  pd.read_csv(filename, encoding=encoding, sep=sep, parse_dates=parse_dates)\n",
    "    if index_col != None: data.set_index(index_col, inplace=True)\n",
    "    return data\n",
    "\n",
    "def col_names(fr, to = 0, prefix = 'f_'):\n",
    "    if to == 0: to = fr\n",
    "    return ['{}{}'.format(prefix,s) for s in range(fr,to + 1)]\n",
    "\n",
    "def meta_frame():\n",
    "    col_dict = {\n",
    "        \"perc_mass\" : col_names(0,7),\n",
    "        \"perc_vol\" : col_names(41,42),\n",
    "        \"perc_ppm\" : col_names(46),\n",
    "        \"abs_celsius\" : col_names(20,21) + col_names(25) + col_names(28,31),\n",
    "        \"abs_hertz\" : col_names(36,39),\n",
    "        \"abs_kg_h\" : col_names(8,15) + col_names(17,19) + col_names(22,24) + col_names(26,27) \n",
    "                    + col_names(32,35) + col_names(43,45) + col_names(47),\n",
    "        \"abs_kpa\" : col_names(16),\n",
    "        \"abs_mps\" : col_names(40)\n",
    "    }\n",
    "    \n",
    "    col_type_dict = {\n",
    "        \"abs\" : [item for sublist in [col_dict[col] for col in col_dict if \"abs\" in col] for item in sublist],\n",
    "        \"perc\" : [item for sublist in [col_dict[col] for col in col_dict if \"perc\" in col] for item in sublist]\n",
    "    }\n",
    "    return col_dict, col_type_dict\n",
    "\n",
    "def resample_meta_frame(feature_names):\n",
    "    features = {}\n",
    "    level1, level2 = meta_frame()\n",
    "\n",
    "    for key in level1.keys():\n",
    "        for f in level1[key]:\n",
    "            if f not in features:\n",
    "                features_dict = { 'level1' : key }\n",
    "                features[f] = features_dict\n",
    "                \n",
    "    for key in level2.keys():\n",
    "        for f in level2[key]:\n",
    "            features[f]['level2'] = key\n",
    "    return pd.DataFrame(features).T"
   ]
  },
  {
   "cell_type": "code",
   "execution_count": 3,
   "metadata": {},
   "outputs": [],
   "source": [
    "def split_train_test(data, labels, verbose=True):\n",
    "    X_train = data[:\"2017-10-31 23:00:00\"].copy()\n",
    "    y_train = labels[:\"2017-10-31 23:00:00\"].copy()\n",
    "    X_val =  data[\"2017-11-01 00:00:00\":\"2017-12-31 23:00:00\"].copy()\n",
    "    y_val = labels[\"2017-11-01 00:00:00\":\"2017-12-31 23:00:00\"].copy()\n",
    "    X_test = data['2018-01-01 00:00:00':]\n",
    "    if verbose:\n",
    "        print('Train size:',X_train.shape, y_train.shape)\n",
    "        print('Validation size:',X_val.shape, y_val.shape)\n",
    "        print('Test size:', X_test.shape)\n",
    "    return (X_train, y_train), (X_val, y_val), X_test"
   ]
  },
  {
   "cell_type": "code",
   "execution_count": 4,
   "metadata": {},
   "outputs": [],
   "source": [
    "def preprocess(data):\n",
    "    data_copy = data.copy()\n",
    "    data_copy.loc['2017-06-16 14:00:00', ['f_41', 'f_42']] = np.nan #remove single outlier spike\n",
    "    data_copy.loc['2017-02-09 14:00:00', ['f_41', 'f_42']] = np.nan #remove single outlier spike\n",
    "    #data_copy.loc['2017-09-02':'2017-09-18 12:00:00', :] = np.nan # setting standstill to nan (for further drop)\n",
    "    data_copy = data_copy.ffill().fillna(data_copy.loc[:\"2017-12-31 23:00:00\",:].mean())\n",
    "    return data_copy\n",
    "\n",
    "def drop_standstill(data, fr='2017-09-02 12:00:00', to='2017-09-20 12:00:00'):\n",
    "    data_copy = data.copy()\n",
    "    data_copy.drop(data_copy.loc[fr:to,:].index, inplace=True)\n",
    "    return data_copy\n",
    "\n",
    "def scale(data):\n",
    "    scaler = StandardScaler()\n",
    "    return scaler.fit_transform(data)"
   ]
  },
  {
   "cell_type": "code",
   "execution_count": 5,
   "metadata": {},
   "outputs": [
    {
     "data": {
      "text/html": [
       "<div>\n",
       "<style scoped>\n",
       "    .dataframe tbody tr th:only-of-type {\n",
       "        vertical-align: middle;\n",
       "    }\n",
       "\n",
       "    .dataframe tbody tr th {\n",
       "        vertical-align: top;\n",
       "    }\n",
       "\n",
       "    .dataframe thead th {\n",
       "        text-align: right;\n",
       "    }\n",
       "</style>\n",
       "<table border=\"1\" class=\"dataframe\">\n",
       "  <thead>\n",
       "    <tr style=\"text-align: right;\">\n",
       "      <th></th>\n",
       "      <th>level1</th>\n",
       "      <th>level2</th>\n",
       "    </tr>\n",
       "  </thead>\n",
       "  <tbody>\n",
       "    <tr>\n",
       "      <th>f_0</th>\n",
       "      <td>perc_mass</td>\n",
       "      <td>perc</td>\n",
       "    </tr>\n",
       "  </tbody>\n",
       "</table>\n",
       "</div>"
      ],
      "text/plain": [
       "        level1 level2\n",
       "f_0  perc_mass   perc"
      ]
     },
     "execution_count": 5,
     "metadata": {},
     "output_type": "execute_result"
    }
   ],
   "source": [
    "# Loading data\n",
    "tags = read_data('tags.csv', index_col='feature', parse_dates=None)#pd.read_csv('tags.csv', encoding='utf-8', sep=',')\n",
    "data = read_data('sensors.csv', parse_dates=['timestamp'], index_col=['timestamp'])\n",
    "labels = read_data('coke_target.csv', parse_dates=['timestamp'], index_col=['timestamp'])\n",
    "\n",
    "level1, level2 = meta_frame()\n",
    "meta = resample_meta_frame(data.columns)\n",
    "meta.head(1)"
   ]
  },
  {
   "cell_type": "code",
   "execution_count": 6,
   "metadata": {},
   "outputs": [
    {
     "name": "stdout",
     "output_type": "stream",
     "text": [
      "Original: (13272, 48) // NaNs: 104053\n",
      "Preprocessed: (13272, 48) // NaNs: 0\n",
      "Preprocessed + drop standstill: (12839, 48) // NaNs: 0\n"
     ]
    }
   ],
   "source": [
    "# Preprocessing data\n",
    "data_prep = preprocess(data)\n",
    "data_final = drop_standstill(data_prep)\n",
    "labels_prep = labels.copy()\n",
    "labels_final = drop_standstill(labels)\n",
    "\n",
    "print('Original: {} // NaNs: {}'.format(data.shape, data.isna().sum().sum()))\n",
    "print('Preprocessed: {} // NaNs: {}'.format(data_prep.shape, data_prep.isna().sum().sum()))\n",
    "print('Preprocessed + drop standstill: {} // NaNs: {}'.format(data_final.shape, data_final.isna().sum().sum()))"
   ]
  },
  {
   "cell_type": "markdown",
   "metadata": {},
   "source": [
    "# Modelling"
   ]
  },
  {
   "cell_type": "code",
   "execution_count": 7,
   "metadata": {},
   "outputs": [],
   "source": [
    "def rmse(y_target, y_pred):\n",
    "    return np.sqrt(mean_squared_error(y_target, y_pred))\n",
    "\n",
    "def grid_search_cv(model, data, labels, params, cv, name='model'):\n",
    "    (X_train, y_train), (X_val, y_val), X_test = split_train_test(data, labels, verbose=False)\n",
    "    grid_search = GridSearchCV(model,\n",
    "                               param_grid=params,\n",
    "                               cv=cv,\n",
    "                               scoring=\"neg_mean_squared_error\",\n",
    "                               n_jobs=1,\n",
    "                               verbose=1, \n",
    "                               return_train_score=True)\n",
    "    grid_search.fit(X_train, y_train['target'])\n",
    "    print(\"Model best cv parameters:\", grid_search.best_params_)\n",
    "    models[name] = {\"model\": grid_search, \"X_test\" : X_test}\n",
    "    \n",
    "    train_predict = grid_search.predict(X_train)\n",
    "    val_predict = grid_search.predict(X_val)\n",
    "    print(\"RMSE train data\", rmse(y_train['target'], train_predict))\n",
    "    print(\"RMSE validation data:\", rmse(y_val['target'], val_predict))\n",
    "    \n",
    "def submit(model, X_test, name, prefix='result_'):\n",
    "    y_pred = model.predict(X_test)\n",
    "    submission = pd.DataFrame(y_pred, index=X_test.index, columns=[\"target\"])\n",
    "    submission.to_csv(\"{}{}.csv\".format(prefix,name))   \n",
    "    \n",
    "def submit_dict(models, model_name, X_test, name, prefix='result_'):\n",
    "    y_pred = models[model_name]['model'].predict(X_test)\n",
    "    submission = pd.DataFrame(y_pred, index=X_test.index, columns=[\"target\"])\n",
    "    submission.to_csv(\"{}{}.csv\".format(prefix,name))"
   ]
  },
  {
   "cell_type": "code",
   "execution_count": 8,
   "metadata": {},
   "outputs": [],
   "source": [
    "models={}\n",
    "cv = TimeSeriesSplit(3)"
   ]
  },
  {
   "cell_type": "code",
   "execution_count": 9,
   "metadata": {},
   "outputs": [],
   "source": [
    "model_gb = GradientBoostingRegressor(random_state=3)"
   ]
  },
  {
   "cell_type": "markdown",
   "metadata": {},
   "source": [
    "### Feature engineering"
   ]
  },
  {
   "cell_type": "code",
   "execution_count": 43,
   "metadata": {},
   "outputs": [],
   "source": [
    "def shift_features(data, features, shift=1, prefix='_shift', postfix=''):\n",
    "    temp_data = pd.DataFrame()\n",
    "    new_feature_names = list(map(lambda x: x+'{}{}{}'.format(prefix, shift, postfix), features))\n",
    "    temp_data[new_feature_names] = data[features].shift(shift).fillna(0)\n",
    "    return temp_data\n",
    "\n",
    "def rolling_features(data, features, rolling=3, func='mean',prefix='_roll', postfix=''):\n",
    "    temp_data = pd.DataFrame()\n",
    "    new_feature_names = list(map(lambda x: x+'{}{}{}_{}'.format(prefix, rolling, postfix, func), features))\n",
    "    temp_data[new_feature_names] = data[features].rolling(rolling).agg(func).fillna(0) \n",
    "    return temp_data\n",
    "\n",
    "def ewm_features(data, features, func='mean', com=None, span=None, halflife=None, alpha=None, prefix='_ewm', postfix='', ):\n",
    "    temp_data = pd.DataFrame()\n",
    "    new_feature_names = list(map(lambda x: x+'{}{}_{}'.format(prefix, postfix, func), features))\n",
    "    temp_data[new_feature_names] = data[features].ewm(com, span, halflife, alpha).agg(func).fillna(0) \n",
    "    return temp_data\n",
    "\n",
    "def product_features(data, features, length=2):\n",
    "    temp_data = pd.DataFrame()\n",
    "    combs = combinations(features, length)\n",
    "    for comb in combs:\n",
    "        joiner = \"\".join\n",
    "        features = list(map(joiner, comb))\n",
    "        feat_name = \"_\".join(features)\n",
    "        temp_data[feat_name] = data[features[0]]\n",
    "        for f in features[1:]:\n",
    "            temp_data[feat_name] = temp_data[feat_name] * data[f]\n",
    "    return temp_data\n",
    "    \n",
    "def product_features_from_lists(data, list1, list2):\n",
    "    temp_data = pd.DataFrame()\n",
    "    combs =combinations(list1, list2)\n",
    "    for comb in combs:\n",
    "        joiner = \"\".join\n",
    "        features = list(map(joiner, comb))\n",
    "        feat_name = \"_\".join(features)\n",
    "        temp_data[feat_name] = data[features[0]]\n",
    "        for f in features[1:]:\n",
    "            temp_data.loc[:, feat_name] = temp_data.loc[:, feat_name] * data[f] * 1.0\n",
    "    return temp_data\n",
    "\n",
    "def combinations(list1, list2):\n",
    "    return [(x,y) for x in list1 for y in list2]\n",
    "\n",
    "def concat(*dfs, axis=1):\n",
    "    output = []\n",
    "    for i, df in enumerate(dfs):\n",
    "        output.append(df)\n",
    "    return pd.concat(output, sort=False, axis=axis)"
   ]
  },
  {
   "cell_type": "markdown",
   "metadata": {},
   "source": [
    "### Baseline"
   ]
  },
  {
   "cell_type": "code",
   "execution_count": null,
   "metadata": {},
   "outputs": [],
   "source": [
    "model_gb_params = {\n",
    "    'learning_rate' : [0.01],\n",
    "    'n_estimators' : [100, 200, 300],\n",
    "    'subsamples' : [1.0, 0.8]\n",
    "}"
   ]
  },
  {
   "cell_type": "markdown",
   "metadata": {},
   "source": [
    "### Гипотеза 1: f8=f9=f10 (корреляция 1) f11=f12=f13 (корреляция 1)"
   ]
  },
  {
   "cell_type": "code",
   "execution_count": 79,
   "metadata": {},
   "outputs": [
    {
     "data": {
      "text/html": [
       "<div>\n",
       "<style scoped>\n",
       "    .dataframe tbody tr th:only-of-type {\n",
       "        vertical-align: middle;\n",
       "    }\n",
       "\n",
       "    .dataframe tbody tr th {\n",
       "        vertical-align: top;\n",
       "    }\n",
       "\n",
       "    .dataframe thead th {\n",
       "        text-align: right;\n",
       "    }\n",
       "</style>\n",
       "<table border=\"1\" class=\"dataframe\">\n",
       "  <thead>\n",
       "    <tr style=\"text-align: right;\">\n",
       "      <th></th>\n",
       "      <th>f_0</th>\n",
       "      <th>f_1</th>\n",
       "      <th>f_2</th>\n",
       "      <th>f_3</th>\n",
       "      <th>f_4</th>\n",
       "      <th>f_5</th>\n",
       "      <th>f_6</th>\n",
       "      <th>f_7</th>\n",
       "      <th>f_11</th>\n",
       "      <th>f_12</th>\n",
       "      <th>...</th>\n",
       "      <th>f_38</th>\n",
       "      <th>f_39</th>\n",
       "      <th>f_40</th>\n",
       "      <th>f_41</th>\n",
       "      <th>f_42</th>\n",
       "      <th>f_43</th>\n",
       "      <th>f_45</th>\n",
       "      <th>f_47</th>\n",
       "      <th>f_8_f_9_f_10_f_44_sum</th>\n",
       "      <th>f_21_f_25_f_29_f_46_sum</th>\n",
       "    </tr>\n",
       "    <tr>\n",
       "      <th>timestamp</th>\n",
       "      <th></th>\n",
       "      <th></th>\n",
       "      <th></th>\n",
       "      <th></th>\n",
       "      <th></th>\n",
       "      <th></th>\n",
       "      <th></th>\n",
       "      <th></th>\n",
       "      <th></th>\n",
       "      <th></th>\n",
       "      <th></th>\n",
       "      <th></th>\n",
       "      <th></th>\n",
       "      <th></th>\n",
       "      <th></th>\n",
       "      <th></th>\n",
       "      <th></th>\n",
       "      <th></th>\n",
       "      <th></th>\n",
       "      <th></th>\n",
       "      <th></th>\n",
       "    </tr>\n",
       "  </thead>\n",
       "  <tbody>\n",
       "    <tr>\n",
       "      <th>2016-10-24 16:00:00</th>\n",
       "      <td>99.087045</td>\n",
       "      <td>0.250268</td>\n",
       "      <td>26.505533</td>\n",
       "      <td>-0.005383</td>\n",
       "      <td>6.25191</td>\n",
       "      <td>0.022304</td>\n",
       "      <td>1.466704</td>\n",
       "      <td>11.173872</td>\n",
       "      <td>10388.134152</td>\n",
       "      <td>10301.147575</td>\n",
       "      <td>...</td>\n",
       "      <td>48.786063</td>\n",
       "      <td>48.719167</td>\n",
       "      <td>0.694998</td>\n",
       "      <td>0.005186</td>\n",
       "      <td>0.00409</td>\n",
       "      <td>10518.438958</td>\n",
       "      <td>10271.91295</td>\n",
       "      <td>64589.460605</td>\n",
       "      <td>947003.488612</td>\n",
       "      <td>1921.438795</td>\n",
       "    </tr>\n",
       "  </tbody>\n",
       "</table>\n",
       "<p>1 rows × 42 columns</p>\n",
       "</div>"
      ],
      "text/plain": [
       "                           f_0       f_1        f_2       f_3      f_4  \\\n",
       "timestamp                                                                \n",
       "2016-10-24 16:00:00  99.087045  0.250268  26.505533 -0.005383  6.25191   \n",
       "\n",
       "                          f_5       f_6        f_7          f_11  \\\n",
       "timestamp                                                          \n",
       "2016-10-24 16:00:00  0.022304  1.466704  11.173872  10388.134152   \n",
       "\n",
       "                             f_12           ...                  f_38  \\\n",
       "timestamp                                   ...                         \n",
       "2016-10-24 16:00:00  10301.147575           ...             48.786063   \n",
       "\n",
       "                          f_39      f_40      f_41     f_42          f_43  \\\n",
       "timestamp                                                                   \n",
       "2016-10-24 16:00:00  48.719167  0.694998  0.005186  0.00409  10518.438958   \n",
       "\n",
       "                            f_45          f_47  f_8_f_9_f_10_f_44_sum  \\\n",
       "timestamp                                                               \n",
       "2016-10-24 16:00:00  10271.91295  64589.460605          947003.488612   \n",
       "\n",
       "                     f_21_f_25_f_29_f_46_sum  \n",
       "timestamp                                     \n",
       "2016-10-24 16:00:00              1921.438795  \n",
       "\n",
       "[1 rows x 42 columns]"
      ]
     },
     "execution_count": 79,
     "metadata": {},
     "output_type": "execute_result"
    }
   ],
   "source": [
    "gb_params = {\n",
    "    'learning_rate' : [0.01],\n",
    "    'n_estimators' : [100,200,300],\n",
    "    'max_depth' : [3],\n",
    "    'subsample' : [1.0, 0.8]\n",
    "}\n",
    "hyp1_cols = ['f_8','f_9', 'f_10', 'f_44']\n",
    "#hyp2_cols = ['f_11','f_12', 'f_13', 'f_43']\n",
    "#hyp3_cols = ['f_20','f_28', 'f_30', 'f_31']\n",
    "hyp4_cols = ['f_21','f_25', 'f_29', 'f_46'] # f_46 has -0.95 corr\n",
    "hyp_cols_total = [hyp1_cols, hyp4_cols] #, hyp2_cols, hyp3_cols, hyp4_cols\n",
    "\n",
    "data_hyp = data_prep.copy()\n",
    "for hyp_cols in hyp_cols_total:\n",
    "    data_hyp['_'.join(hyp_cols)+'_sum'] = data_hyp[hyp_cols].sum(axis=1).values\n",
    "    data_hyp.drop(hyp_cols, axis=1, inplace=True)\n",
    "data_hyp.head(1)"
   ]
  },
  {
   "cell_type": "code",
   "execution_count": 25,
   "metadata": {},
   "outputs": [
    {
     "name": "stdout",
     "output_type": "stream",
     "text": [
      "Fitting 3 folds for each of 6 candidates, totalling 18 fits\n"
     ]
    },
    {
     "name": "stderr",
     "output_type": "stream",
     "text": [
      "[Parallel(n_jobs=1)]: Done  18 out of  18 | elapsed:   46.0s finished\n"
     ]
    },
    {
     "name": "stdout",
     "output_type": "stream",
     "text": [
      "Model best cv parameters: {'learning_rate': 0.01, 'max_depth': 3, 'n_estimators': 100, 'subsample': 0.8}\n",
      "RMSE train data 0.41963482071157443\n",
      "RMSE validation data: 0.2695977842593364\n"
     ]
    }
   ],
   "source": [
    "grid_search_cv(model_gb, data_hyp, labels, gb_params, cv, name='model_hypl_14')"
   ]
  },
  {
   "cell_type": "markdown",
   "metadata": {},
   "source": [
    "### Гипотеза 2 (новые фичи улучшают качество)"
   ]
  },
  {
   "cell_type": "code",
   "execution_count": 74,
   "metadata": {},
   "outputs": [
    {
     "data": {
      "text/html": [
       "<div>\n",
       "<style scoped>\n",
       "    .dataframe tbody tr th:only-of-type {\n",
       "        vertical-align: middle;\n",
       "    }\n",
       "\n",
       "    .dataframe tbody tr th {\n",
       "        vertical-align: top;\n",
       "    }\n",
       "\n",
       "    .dataframe thead th {\n",
       "        text-align: right;\n",
       "    }\n",
       "</style>\n",
       "<table border=\"1\" class=\"dataframe\">\n",
       "  <thead>\n",
       "    <tr style=\"text-align: right;\">\n",
       "      <th></th>\n",
       "      <th>f_0</th>\n",
       "      <th>f_1</th>\n",
       "      <th>f_2</th>\n",
       "      <th>f_3</th>\n",
       "      <th>f_4</th>\n",
       "      <th>f_5</th>\n",
       "      <th>f_6</th>\n",
       "      <th>f_7</th>\n",
       "      <th>f_11</th>\n",
       "      <th>f_12</th>\n",
       "      <th>...</th>\n",
       "      <th>f_38_roll3_mean</th>\n",
       "      <th>f_39_roll3_mean</th>\n",
       "      <th>f_40_roll3_mean</th>\n",
       "      <th>f_41_roll3_mean</th>\n",
       "      <th>f_42_roll3_mean</th>\n",
       "      <th>f_43_roll3_mean</th>\n",
       "      <th>f_45_roll3_mean</th>\n",
       "      <th>f_47_roll3_mean</th>\n",
       "      <th>f_8_f_9_f_10_f_44_sum_roll3_mean</th>\n",
       "      <th>f_21_f_25_f_29_f_46_sum_roll3_mean</th>\n",
       "    </tr>\n",
       "    <tr>\n",
       "      <th>timestamp</th>\n",
       "      <th></th>\n",
       "      <th></th>\n",
       "      <th></th>\n",
       "      <th></th>\n",
       "      <th></th>\n",
       "      <th></th>\n",
       "      <th></th>\n",
       "      <th></th>\n",
       "      <th></th>\n",
       "      <th></th>\n",
       "      <th></th>\n",
       "      <th></th>\n",
       "      <th></th>\n",
       "      <th></th>\n",
       "      <th></th>\n",
       "      <th></th>\n",
       "      <th></th>\n",
       "      <th></th>\n",
       "      <th></th>\n",
       "      <th></th>\n",
       "      <th></th>\n",
       "    </tr>\n",
       "  </thead>\n",
       "  <tbody>\n",
       "    <tr>\n",
       "      <th>2016-10-24 16:00:00</th>\n",
       "      <td>99.087045</td>\n",
       "      <td>0.250268</td>\n",
       "      <td>26.505533</td>\n",
       "      <td>-0.005383</td>\n",
       "      <td>6.25191</td>\n",
       "      <td>0.022304</td>\n",
       "      <td>1.466704</td>\n",
       "      <td>11.173872</td>\n",
       "      <td>10388.134152</td>\n",
       "      <td>10301.147575</td>\n",
       "      <td>...</td>\n",
       "      <td>0.0</td>\n",
       "      <td>0.0</td>\n",
       "      <td>0.0</td>\n",
       "      <td>0.0</td>\n",
       "      <td>0.0</td>\n",
       "      <td>0.0</td>\n",
       "      <td>0.0</td>\n",
       "      <td>0.0</td>\n",
       "      <td>0.0</td>\n",
       "      <td>0.0</td>\n",
       "    </tr>\n",
       "  </tbody>\n",
       "</table>\n",
       "<p>1 rows × 126 columns</p>\n",
       "</div>"
      ],
      "text/plain": [
       "                           f_0       f_1        f_2       f_3      f_4  \\\n",
       "timestamp                                                                \n",
       "2016-10-24 16:00:00  99.087045  0.250268  26.505533 -0.005383  6.25191   \n",
       "\n",
       "                          f_5       f_6        f_7          f_11  \\\n",
       "timestamp                                                          \n",
       "2016-10-24 16:00:00  0.022304  1.466704  11.173872  10388.134152   \n",
       "\n",
       "                             f_12                 ...                  \\\n",
       "timestamp                                         ...                   \n",
       "2016-10-24 16:00:00  10301.147575                 ...                   \n",
       "\n",
       "                     f_38_roll3_mean  f_39_roll3_mean  f_40_roll3_mean  \\\n",
       "timestamp                                                                \n",
       "2016-10-24 16:00:00              0.0              0.0              0.0   \n",
       "\n",
       "                     f_41_roll3_mean  f_42_roll3_mean  f_43_roll3_mean  \\\n",
       "timestamp                                                                \n",
       "2016-10-24 16:00:00              0.0              0.0              0.0   \n",
       "\n",
       "                     f_45_roll3_mean  f_47_roll3_mean  \\\n",
       "timestamp                                               \n",
       "2016-10-24 16:00:00              0.0              0.0   \n",
       "\n",
       "                     f_8_f_9_f_10_f_44_sum_roll3_mean  \\\n",
       "timestamp                                               \n",
       "2016-10-24 16:00:00                               0.0   \n",
       "\n",
       "                     f_21_f_25_f_29_f_46_sum_roll3_mean  \n",
       "timestamp                                                \n",
       "2016-10-24 16:00:00                                 0.0  \n",
       "\n",
       "[1 rows x 126 columns]"
      ]
     },
     "execution_count": 74,
     "metadata": {},
     "output_type": "execute_result"
    }
   ],
   "source": [
    "data_feat = data_hyp.copy()\n",
    "#prod_features_1 = product_features_from_lists(data_prep_hyp_calendar, level2['abs'], level2['perc'])\n",
    "shift_features_1 = shift_features(data_feat, data_feat.columns, shift=1)\n",
    "roll_features_3 = rolling_features(data_feat, data_feat.columns, func='mean', rolling=3)\n",
    "\n",
    "\n",
    "ewm_features_05 = ewm_features(data_feat, data_feat.columns, alpha=0.5)\n",
    "#ewm_features_05 = ewm_features(data_prep_hyp_calendar, data_prep_hyp_calendar.columns, alpha=0.5)\n",
    "data_feat = concat(data_feat, shift_features_1, \n",
    "                   roll_features_3)\n",
    "#                   ewm_features_01, ewm_features_05)\n",
    "data_feat.head(1)"
   ]
  },
  {
   "cell_type": "code",
   "execution_count": 57,
   "metadata": {},
   "outputs": [
    {
     "name": "stdout",
     "output_type": "stream",
     "text": [
      "Fitting 3 folds for each of 12 candidates, totalling 36 fits\n"
     ]
    },
    {
     "name": "stderr",
     "output_type": "stream",
     "text": [
      "[Parallel(n_jobs=1)]: Done  36 out of  36 | elapsed:  9.2min finished\n"
     ]
    },
    {
     "name": "stdout",
     "output_type": "stream",
     "text": [
      "Model best cv parameters: {'learning_rate': 0.01, 'max_depth': 3, 'n_estimators': 300, 'subsample': 1.0}\n",
      "RMSE train data 0.289692032973089\n",
      "RMSE validation data: 0.29323755050111777\n"
     ]
    }
   ],
   "source": [
    "# на обычных данных\n",
    "grid_search_cv(model_gb, data_feat, labels, gb_params, cv, name='model1')"
   ]
  },
  {
   "cell_type": "markdown",
   "metadata": {},
   "source": [
    "### Гипотеза 3 - парные признаки дают прирост"
   ]
  },
  {
   "cell_type": "code",
   "execution_count": 80,
   "metadata": {},
   "outputs": [
    {
     "data": {
      "text/html": [
       "<div>\n",
       "<style scoped>\n",
       "    .dataframe tbody tr th:only-of-type {\n",
       "        vertical-align: middle;\n",
       "    }\n",
       "\n",
       "    .dataframe tbody tr th {\n",
       "        vertical-align: top;\n",
       "    }\n",
       "\n",
       "    .dataframe thead th {\n",
       "        text-align: right;\n",
       "    }\n",
       "</style>\n",
       "<table border=\"1\" class=\"dataframe\">\n",
       "  <thead>\n",
       "    <tr style=\"text-align: right;\">\n",
       "      <th></th>\n",
       "      <th>f_0</th>\n",
       "      <th>f_1</th>\n",
       "      <th>f_2</th>\n",
       "      <th>f_3</th>\n",
       "      <th>f_4</th>\n",
       "      <th>f_5</th>\n",
       "      <th>f_6</th>\n",
       "      <th>f_7</th>\n",
       "      <th>f_11</th>\n",
       "      <th>f_12</th>\n",
       "      <th>...</th>\n",
       "      <th>f_17_f_24</th>\n",
       "      <th>f_17_f_26</th>\n",
       "      <th>f_17_f_27</th>\n",
       "      <th>f_17_f_28</th>\n",
       "      <th>f_17_f_30</th>\n",
       "      <th>f_17_f_31</th>\n",
       "      <th>f_17_f_32</th>\n",
       "      <th>f_17_f_33</th>\n",
       "      <th>f_17_f_34</th>\n",
       "      <th>f_17_f_35</th>\n",
       "    </tr>\n",
       "    <tr>\n",
       "      <th>timestamp</th>\n",
       "      <th></th>\n",
       "      <th></th>\n",
       "      <th></th>\n",
       "      <th></th>\n",
       "      <th></th>\n",
       "      <th></th>\n",
       "      <th></th>\n",
       "      <th></th>\n",
       "      <th></th>\n",
       "      <th></th>\n",
       "      <th></th>\n",
       "      <th></th>\n",
       "      <th></th>\n",
       "      <th></th>\n",
       "      <th></th>\n",
       "      <th></th>\n",
       "      <th></th>\n",
       "      <th></th>\n",
       "      <th></th>\n",
       "      <th></th>\n",
       "      <th></th>\n",
       "    </tr>\n",
       "  </thead>\n",
       "  <tbody>\n",
       "    <tr>\n",
       "      <th>2016-10-24 16:00:00</th>\n",
       "      <td>99.087045</td>\n",
       "      <td>0.250268</td>\n",
       "      <td>26.505533</td>\n",
       "      <td>-0.005383</td>\n",
       "      <td>6.25191</td>\n",
       "      <td>0.022304</td>\n",
       "      <td>1.466704</td>\n",
       "      <td>11.173872</td>\n",
       "      <td>10388.134152</td>\n",
       "      <td>10301.147575</td>\n",
       "      <td>...</td>\n",
       "      <td>5382.137124</td>\n",
       "      <td>1363.918103</td>\n",
       "      <td>4314.223097</td>\n",
       "      <td>25862.461986</td>\n",
       "      <td>25480.464796</td>\n",
       "      <td>26337.058367</td>\n",
       "      <td>4913.158626</td>\n",
       "      <td>388.731396</td>\n",
       "      <td>358.051983</td>\n",
       "      <td>389.704637</td>\n",
       "    </tr>\n",
       "  </tbody>\n",
       "</table>\n",
       "<p>1 rows × 351 columns</p>\n",
       "</div>"
      ],
      "text/plain": [
       "                           f_0       f_1        f_2       f_3      f_4  \\\n",
       "timestamp                                                                \n",
       "2016-10-24 16:00:00  99.087045  0.250268  26.505533 -0.005383  6.25191   \n",
       "\n",
       "                          f_5       f_6        f_7          f_11  \\\n",
       "timestamp                                                          \n",
       "2016-10-24 16:00:00  0.022304  1.466704  11.173872  10388.134152   \n",
       "\n",
       "                             f_12     ...        f_17_f_24    f_17_f_26  \\\n",
       "timestamp                             ...                                 \n",
       "2016-10-24 16:00:00  10301.147575     ...      5382.137124  1363.918103   \n",
       "\n",
       "                       f_17_f_27     f_17_f_28     f_17_f_30     f_17_f_31  \\\n",
       "timestamp                                                                    \n",
       "2016-10-24 16:00:00  4314.223097  25862.461986  25480.464796  26337.058367   \n",
       "\n",
       "                       f_17_f_32   f_17_f_33   f_17_f_34   f_17_f_35  \n",
       "timestamp                                                             \n",
       "2016-10-24 16:00:00  4913.158626  388.731396  358.051983  389.704637  \n",
       "\n",
       "[1 rows x 351 columns]"
      ]
     },
     "execution_count": 80,
     "metadata": {},
     "output_type": "execute_result"
    }
   ],
   "source": [
    "prod_feat = product_features_from_lists(data_feat, data_feat.columns[0:15], data_feat.columns[15:30])\n",
    "data_feat_prod = pd.concat([data_feat, prod_feat], axis=1)\n",
    "data_feat_prod.head(1)"
   ]
  },
  {
   "cell_type": "code",
   "execution_count": 81,
   "metadata": {},
   "outputs": [
    {
     "name": "stdout",
     "output_type": "stream",
     "text": [
      "Fitting 3 folds for each of 6 candidates, totalling 18 fits\n"
     ]
    },
    {
     "name": "stderr",
     "output_type": "stream",
     "text": [
      "[Parallel(n_jobs=1)]: Done  18 out of  18 | elapsed:  7.8min finished\n"
     ]
    },
    {
     "name": "stdout",
     "output_type": "stream",
     "text": [
      "Model best cv parameters: {'learning_rate': 0.01, 'max_depth': 3, 'n_estimators': 100, 'subsample': 0.8}\n",
      "RMSE train data 0.42219355061313635\n",
      "RMSE validation data: 0.27931579926542655\n"
     ]
    }
   ],
   "source": [
    "# на обычных данных\n",
    "grid_search_cv(model_gb, data_feat_prod, labels, gb_params, cv, name='model1')"
   ]
  },
  {
   "cell_type": "code",
   "execution_count": null,
   "metadata": {},
   "outputs": [],
   "source": []
  }
 ],
 "metadata": {
  "kernelspec": {
   "display_name": "Python 3",
   "language": "python",
   "name": "python3"
  },
  "language_info": {
   "codemirror_mode": {
    "name": "ipython",
    "version": 3
   },
   "file_extension": ".py",
   "mimetype": "text/x-python",
   "name": "python",
   "nbconvert_exporter": "python",
   "pygments_lexer": "ipython3",
   "version": "3.6.5"
  }
 },
 "nbformat": 4,
 "nbformat_minor": 2
}
